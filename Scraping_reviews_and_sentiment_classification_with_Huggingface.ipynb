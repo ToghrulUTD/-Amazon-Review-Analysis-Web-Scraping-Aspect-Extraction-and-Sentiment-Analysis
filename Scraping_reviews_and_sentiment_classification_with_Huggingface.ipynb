{
  "nbformat": 4,
  "nbformat_minor": 0,
  "metadata": {
    "colab": {
      "provenance": [],
      "machine_shape": "hm"
    },
    "kernelspec": {
      "name": "python3",
      "display_name": "Python 3"
    },
    "language_info": {
      "name": "python"
    },
    "accelerator": "TPU",
    "gpuClass": "standard"
  },
  "cells": [
    {
      "cell_type": "markdown",
      "source": [
        "# Scrap Amazon reviews"
      ],
      "metadata": {
        "id": "4L1un-GbUoQN"
      }
    },
    {
      "cell_type": "code",
      "source": [
        "import pandas as pd\n",
        "import numpy as np"
      ],
      "metadata": {
        "id": "s8e75Ta3D_pi"
      },
      "execution_count": null,
      "outputs": []
    },
    {
      "cell_type": "markdown",
      "source": [
        "Next two functions loads the reviews from amazon website for the given product asin and number of pages."
      ],
      "metadata": {
        "id": "7uHUip91sqP_"
      }
    },
    {
      "cell_type": "code",
      "source": [
        "!pip install requests_html --quiet\n",
        "from requests_html import HTMLSession\n",
        "\n",
        "class Reviews:\n",
        "  def __init__(self, asin):\n",
        "    self.asin = asin\n",
        "    self.session = HTMLSession()\n",
        "    self.headers = {'User-Agent':'Mozilla/5.0 (Macintosh; Intel Mac OS X 10_15_7) AppleWebKit/537.36 (KHTML, like Gecko) Chrome/106.0.0.0 Safari/537.36'}\n",
        "    self.url = f'https://www.amazon.co.uk/product-reviews/{self.asin}/ref=cm_cr_arp_d_viewopt_srt?ie=UTF8&reviewerType=all_reviews&sortBy=recent&pageNumber='\n",
        "  def pagination(self, page):\n",
        "    r = self.session.get(self.url + str(int(page)), headers=self.headers)\n",
        "    if not r.html.find('div[data-hook=review]'):\n",
        "      return False \n",
        "    else:\n",
        "      return r.html.find('div[data-hook=review]')\n",
        "  def parse(self, reviews):\n",
        "    total = []\n",
        "    if reviews:\n",
        "      for review in reviews:\n",
        "        rating = review.find('i[data-hook=review-star-rating] span', first=True).text\n",
        "        title = review.find('a[data-hook=review-title]', first=True).text\n",
        "        body = review.find('span[data-hook=review-body] span', first=True).text.replace('\\n','').strip()\n",
        "\n",
        "        data= { 'title': title, 'rating' : float(rating[:3]), 'body': body }\n",
        "        total.append(data)\n",
        "    return total\n"
      ],
      "metadata": {
        "id": "XxKITZ4pYsex"
      },
      "execution_count": null,
      "outputs": []
    },
    {
      "cell_type": "code",
      "source": [
        "import time\n",
        "n=100\n",
        "asin = 'B07L5GDTYY'\n",
        "\n",
        "def get_reviews(n, asin):\n",
        "  \"\"\"\n",
        "  Input\n",
        "    n - number of pages\n",
        "    asin - product id\n",
        "  Output\n",
        "    reviews from first n pages\n",
        "  \"\"\"\n",
        "  reviews=[]\n",
        "  amz=Reviews(asin)\n",
        "  for x in range(1, n):\n",
        "    time.sleep(0.15)\n",
        "    page=amz.pagination(x)\n",
        "    current = amz.parse(page)\n",
        "    if current != []:\n",
        "      for review in current:\n",
        "        reviews.append(review)\n",
        "  reviews=pd.DataFrame(reviews)\n",
        "  return reviews"
      ],
      "metadata": {
        "id": "pcjgWA6BK8GZ"
      },
      "execution_count": null,
      "outputs": []
    },
    {
      "cell_type": "code",
      "source": [
        "data = get_reviews(n, asin)\n",
        "data.info()"
      ],
      "metadata": {
        "colab": {
          "base_uri": "https://localhost:8080/"
        },
        "id": "h7GliWauEZcR",
        "outputId": "80d90b79-d553-4c0b-fe4b-676523af467c"
      },
      "execution_count": null,
      "outputs": [
        {
          "output_type": "stream",
          "name": "stdout",
          "text": [
            "<class 'pandas.core.frame.DataFrame'>\n",
            "RangeIndex: 990 entries, 0 to 989\n",
            "Data columns (total 3 columns):\n",
            " #   Column  Non-Null Count  Dtype  \n",
            "---  ------  --------------  -----  \n",
            " 0   title   990 non-null    object \n",
            " 1   rating  990 non-null    float64\n",
            " 2   body    990 non-null    object \n",
            "dtypes: float64(1), object(2)\n",
            "memory usage: 23.3+ KB\n"
          ]
        }
      ]
    },
    {
      "cell_type": "code",
      "source": [
        "data['text'] = data['title'] + ' ' + data['body'] \n",
        "data.head()"
      ],
      "metadata": {
        "colab": {
          "base_uri": "https://localhost:8080/",
          "height": 206
        },
        "id": "k5CmBKygEizt",
        "outputId": "f3074be9-9252-4f76-b84f-2c4e2060e9f4"
      },
      "execution_count": null,
      "outputs": [
        {
          "output_type": "execute_result",
          "data": {
            "text/plain": [
              "                                               title  rating  \\\n",
              "0             Page turning buttons are a reel asset.     5.0   \n",
              "1                                        Outstanding     5.0   \n",
              "2  If you like books, buy a book, if you like rea...     5.0   \n",
              "3                           Replaced my older kindle     5.0   \n",
              "4         Perfect. Does everything I hoped it would.     5.0   \n",
              "\n",
              "                                                body  \\\n",
              "0  Built in light is brilliant. I brought two, on...   \n",
              "1  One of the best devices around. Perfect for tr...   \n",
              "2  The larger screen and the buttons make all the...   \n",
              "3  This is a great kindle and I love the buttons ...   \n",
              "4  I bought a Kindle years ago but it was the Fir...   \n",
              "\n",
              "                                                text  \n",
              "0  Page turning buttons are a reel asset. Built i...  \n",
              "1  Outstanding One of the best devices around. Pe...  \n",
              "2  If you like books, buy a book, if you like rea...  \n",
              "3  Replaced my older kindle This is a great kindl...  \n",
              "4  Perfect. Does everything I hoped it would. I b...  "
            ],
            "text/html": [
              "\n",
              "  <div id=\"df-de469ac1-44a3-42a4-af03-608cdf43bd66\">\n",
              "    <div class=\"colab-df-container\">\n",
              "      <div>\n",
              "<style scoped>\n",
              "    .dataframe tbody tr th:only-of-type {\n",
              "        vertical-align: middle;\n",
              "    }\n",
              "\n",
              "    .dataframe tbody tr th {\n",
              "        vertical-align: top;\n",
              "    }\n",
              "\n",
              "    .dataframe thead th {\n",
              "        text-align: right;\n",
              "    }\n",
              "</style>\n",
              "<table border=\"1\" class=\"dataframe\">\n",
              "  <thead>\n",
              "    <tr style=\"text-align: right;\">\n",
              "      <th></th>\n",
              "      <th>title</th>\n",
              "      <th>rating</th>\n",
              "      <th>body</th>\n",
              "      <th>text</th>\n",
              "    </tr>\n",
              "  </thead>\n",
              "  <tbody>\n",
              "    <tr>\n",
              "      <th>0</th>\n",
              "      <td>Page turning buttons are a reel asset.</td>\n",
              "      <td>5.0</td>\n",
              "      <td>Built in light is brilliant. I brought two, on...</td>\n",
              "      <td>Page turning buttons are a reel asset. Built i...</td>\n",
              "    </tr>\n",
              "    <tr>\n",
              "      <th>1</th>\n",
              "      <td>Outstanding</td>\n",
              "      <td>5.0</td>\n",
              "      <td>One of the best devices around. Perfect for tr...</td>\n",
              "      <td>Outstanding One of the best devices around. Pe...</td>\n",
              "    </tr>\n",
              "    <tr>\n",
              "      <th>2</th>\n",
              "      <td>If you like books, buy a book, if you like rea...</td>\n",
              "      <td>5.0</td>\n",
              "      <td>The larger screen and the buttons make all the...</td>\n",
              "      <td>If you like books, buy a book, if you like rea...</td>\n",
              "    </tr>\n",
              "    <tr>\n",
              "      <th>3</th>\n",
              "      <td>Replaced my older kindle</td>\n",
              "      <td>5.0</td>\n",
              "      <td>This is a great kindle and I love the buttons ...</td>\n",
              "      <td>Replaced my older kindle This is a great kindl...</td>\n",
              "    </tr>\n",
              "    <tr>\n",
              "      <th>4</th>\n",
              "      <td>Perfect. Does everything I hoped it would.</td>\n",
              "      <td>5.0</td>\n",
              "      <td>I bought a Kindle years ago but it was the Fir...</td>\n",
              "      <td>Perfect. Does everything I hoped it would. I b...</td>\n",
              "    </tr>\n",
              "  </tbody>\n",
              "</table>\n",
              "</div>\n",
              "      <button class=\"colab-df-convert\" onclick=\"convertToInteractive('df-de469ac1-44a3-42a4-af03-608cdf43bd66')\"\n",
              "              title=\"Convert this dataframe to an interactive table.\"\n",
              "              style=\"display:none;\">\n",
              "        \n",
              "  <svg xmlns=\"http://www.w3.org/2000/svg\" height=\"24px\"viewBox=\"0 0 24 24\"\n",
              "       width=\"24px\">\n",
              "    <path d=\"M0 0h24v24H0V0z\" fill=\"none\"/>\n",
              "    <path d=\"M18.56 5.44l.94 2.06.94-2.06 2.06-.94-2.06-.94-.94-2.06-.94 2.06-2.06.94zm-11 1L8.5 8.5l.94-2.06 2.06-.94-2.06-.94L8.5 2.5l-.94 2.06-2.06.94zm10 10l.94 2.06.94-2.06 2.06-.94-2.06-.94-.94-2.06-.94 2.06-2.06.94z\"/><path d=\"M17.41 7.96l-1.37-1.37c-.4-.4-.92-.59-1.43-.59-.52 0-1.04.2-1.43.59L10.3 9.45l-7.72 7.72c-.78.78-.78 2.05 0 2.83L4 21.41c.39.39.9.59 1.41.59.51 0 1.02-.2 1.41-.59l7.78-7.78 2.81-2.81c.8-.78.8-2.07 0-2.86zM5.41 20L4 18.59l7.72-7.72 1.47 1.35L5.41 20z\"/>\n",
              "  </svg>\n",
              "      </button>\n",
              "      \n",
              "  <style>\n",
              "    .colab-df-container {\n",
              "      display:flex;\n",
              "      flex-wrap:wrap;\n",
              "      gap: 12px;\n",
              "    }\n",
              "\n",
              "    .colab-df-convert {\n",
              "      background-color: #E8F0FE;\n",
              "      border: none;\n",
              "      border-radius: 50%;\n",
              "      cursor: pointer;\n",
              "      display: none;\n",
              "      fill: #1967D2;\n",
              "      height: 32px;\n",
              "      padding: 0 0 0 0;\n",
              "      width: 32px;\n",
              "    }\n",
              "\n",
              "    .colab-df-convert:hover {\n",
              "      background-color: #E2EBFA;\n",
              "      box-shadow: 0px 1px 2px rgba(60, 64, 67, 0.3), 0px 1px 3px 1px rgba(60, 64, 67, 0.15);\n",
              "      fill: #174EA6;\n",
              "    }\n",
              "\n",
              "    [theme=dark] .colab-df-convert {\n",
              "      background-color: #3B4455;\n",
              "      fill: #D2E3FC;\n",
              "    }\n",
              "\n",
              "    [theme=dark] .colab-df-convert:hover {\n",
              "      background-color: #434B5C;\n",
              "      box-shadow: 0px 1px 3px 1px rgba(0, 0, 0, 0.15);\n",
              "      filter: drop-shadow(0px 1px 2px rgba(0, 0, 0, 0.3));\n",
              "      fill: #FFFFFF;\n",
              "    }\n",
              "  </style>\n",
              "\n",
              "      <script>\n",
              "        const buttonEl =\n",
              "          document.querySelector('#df-de469ac1-44a3-42a4-af03-608cdf43bd66 button.colab-df-convert');\n",
              "        buttonEl.style.display =\n",
              "          google.colab.kernel.accessAllowed ? 'block' : 'none';\n",
              "\n",
              "        async function convertToInteractive(key) {\n",
              "          const element = document.querySelector('#df-de469ac1-44a3-42a4-af03-608cdf43bd66');\n",
              "          const dataTable =\n",
              "            await google.colab.kernel.invokeFunction('convertToInteractive',\n",
              "                                                     [key], {});\n",
              "          if (!dataTable) return;\n",
              "\n",
              "          const docLinkHtml = 'Like what you see? Visit the ' +\n",
              "            '<a target=\"_blank\" href=https://colab.research.google.com/notebooks/data_table.ipynb>data table notebook</a>'\n",
              "            + ' to learn more about interactive tables.';\n",
              "          element.innerHTML = '';\n",
              "          dataTable['output_type'] = 'display_data';\n",
              "          await google.colab.output.renderOutput(dataTable, element);\n",
              "          const docLink = document.createElement('div');\n",
              "          docLink.innerHTML = docLinkHtml;\n",
              "          element.appendChild(docLink);\n",
              "        }\n",
              "      </script>\n",
              "    </div>\n",
              "  </div>\n",
              "  "
            ]
          },
          "metadata": {},
          "execution_count": 43
        }
      ]
    },
    {
      "cell_type": "markdown",
      "source": [
        "# Pre-Trained Transformer: bert-base-multilingual-uncased-sentiment\n",
        "This a bert-base-multilingual-uncased model finetuned for sentiment analysis on product reviews in six languages: English, Dutch, German, French, Spanish and Italian. It predicts the sentiment of the review as a number of stars (between 1 and 5).\n",
        "\n",
        "This model is intended for direct use as a sentiment analysis model for product reviews in any of the six languages above, or for further finetuning on related sentiment analysis tasks.\n",
        "\n",
        "https://huggingface.co/nlptown/bert-base-multilingual-uncased-sentiment?text=I+like+you.+I+love+you\n"
      ],
      "metadata": {
        "id": "ynArOVP_Urbn"
      }
    },
    {
      "cell_type": "code",
      "source": [
        "!pip install transformers --quiet"
      ],
      "metadata": {
        "id": "pSctDHDnD8ER"
      },
      "execution_count": null,
      "outputs": []
    },
    {
      "cell_type": "code",
      "source": [
        "# import modules\n",
        "from transformers import AutoTokenizer, AutoModelForSequenceClassification\n",
        "import torch\n",
        "\n",
        "tokenizer = AutoTokenizer.from_pretrained('nlptown/bert-base-multilingual-uncased-sentiment')\n",
        "model = AutoModelForSequenceClassification.from_pretrained('nlptown/bert-base-multilingual-uncased-sentiment')"
      ],
      "metadata": {
        "id": "MLb7YJZLH6Hv"
      },
      "execution_count": 119,
      "outputs": []
    },
    {
      "cell_type": "code",
      "source": [
        "def sentiment_score(review):\n",
        "    \"\"\" Tokenize review and predict sentiment class \"\"\"\n",
        "    tokens = tokenizer.encode(review, return_tensors='pt')\n",
        "    result = model(tokens)\n",
        "    return int(torch.argmax(result.logits))+1\n",
        "\n",
        "def sentiment_confidence(review):\n",
        "    \"\"\" Tokenize review and return sentiment class probability for the most likely class \"\"\"\n",
        "    tokens = tokenizer.encode(review, return_tensors='pt')\n",
        "    result = model(tokens)\n",
        "    logits=result.logits.detach().numpy()\n",
        "    logits=np.exp(logits)/np.sum(np.exp(logits))\n",
        "    ind=int(np.argmax(logits))\n",
        "    return logits[0][ind]"
      ],
      "metadata": {
        "id": "85RnfA-QLrET"
      },
      "execution_count": null,
      "outputs": []
    },
    {
      "cell_type": "code",
      "source": [
        "data['sentiment'] = data['text'].apply(lambda x: sentiment_score(x[:512]))\n",
        "data['sent_confidence'] = data['text'].apply(lambda x: sentiment_confidence(x[:512]))"
      ],
      "metadata": {
        "id": "7hydPDJDNjR6"
      },
      "execution_count": null,
      "outputs": []
    },
    {
      "cell_type": "code",
      "source": [
        "data[['title','rating','sentiment','sent_confidence']].sort_values(by = 'sent_confidence', ascending = False).head(20)"
      ],
      "metadata": {
        "colab": {
          "base_uri": "https://localhost:8080/",
          "height": 677
        },
        "id": "xRjd1o34N_dY",
        "outputId": "87e49298-efe4-47ae-8a8f-c759e30fac24"
      },
      "execution_count": null,
      "outputs": [
        {
          "output_type": "execute_result",
          "data": {
            "text/plain": [
              "                                               title  rating  sentiment  \\\n",
              "471                               Short battery life     3.0          3   \n",
              "843                My favourite purchase of the year     5.0          5   \n",
              "741                                 Best kindle ever     5.0          5   \n",
              "150                               Best kindle ever 😃     5.0          5   \n",
              "442                              This kindle is crap     4.0          1   \n",
              "525                       Best kindle ever. In love.     5.0          5   \n",
              "833               Definitely recommended. Brilliant!     5.0          5   \n",
              "375                                     Battery life     4.0          4   \n",
              "5        Horrible most expensive screw up I ever mad     1.0          1   \n",
              "304                                        Brilliant     5.0          5   \n",
              "509                             Practically perfect!     5.0          5   \n",
              "865                                        fantastic     5.0          5   \n",
              "79             In my opinion this is the best kindle     5.0          5   \n",
              "335                                 Best Kindle ever     5.0          5   \n",
              "508                            Love ,love ,love it !     5.0          5   \n",
              "248                               Absolutely love it     5.0          5   \n",
              "838  Totally love the Oasis! So pleased I bought it.     5.0          5   \n",
              "271                    The best Kindle money can buy     5.0          5   \n",
              "869                                       Brilliant!     5.0          5   \n",
              "934                                       Love it!!!     5.0          5   \n",
              "\n",
              "     sent_confidence  \n",
              "471         0.984622  \n",
              "843         0.981894  \n",
              "741         0.975159  \n",
              "150         0.970501  \n",
              "442         0.968494  \n",
              "525         0.968025  \n",
              "833         0.967772  \n",
              "375         0.966709  \n",
              "5           0.966579  \n",
              "304         0.966486  \n",
              "509         0.965984  \n",
              "865         0.964431  \n",
              "79          0.964242  \n",
              "335         0.963889  \n",
              "508         0.963306  \n",
              "248         0.963199  \n",
              "838         0.962786  \n",
              "271         0.962574  \n",
              "869         0.961120  \n",
              "934         0.960795  "
            ],
            "text/html": [
              "\n",
              "  <div id=\"df-60ffa829-a37f-4423-9dfd-373624b4c515\">\n",
              "    <div class=\"colab-df-container\">\n",
              "      <div>\n",
              "<style scoped>\n",
              "    .dataframe tbody tr th:only-of-type {\n",
              "        vertical-align: middle;\n",
              "    }\n",
              "\n",
              "    .dataframe tbody tr th {\n",
              "        vertical-align: top;\n",
              "    }\n",
              "\n",
              "    .dataframe thead th {\n",
              "        text-align: right;\n",
              "    }\n",
              "</style>\n",
              "<table border=\"1\" class=\"dataframe\">\n",
              "  <thead>\n",
              "    <tr style=\"text-align: right;\">\n",
              "      <th></th>\n",
              "      <th>title</th>\n",
              "      <th>rating</th>\n",
              "      <th>sentiment</th>\n",
              "      <th>sent_confidence</th>\n",
              "    </tr>\n",
              "  </thead>\n",
              "  <tbody>\n",
              "    <tr>\n",
              "      <th>471</th>\n",
              "      <td>Short battery life</td>\n",
              "      <td>3.0</td>\n",
              "      <td>3</td>\n",
              "      <td>0.984622</td>\n",
              "    </tr>\n",
              "    <tr>\n",
              "      <th>843</th>\n",
              "      <td>My favourite purchase of the year</td>\n",
              "      <td>5.0</td>\n",
              "      <td>5</td>\n",
              "      <td>0.981894</td>\n",
              "    </tr>\n",
              "    <tr>\n",
              "      <th>741</th>\n",
              "      <td>Best kindle ever</td>\n",
              "      <td>5.0</td>\n",
              "      <td>5</td>\n",
              "      <td>0.975159</td>\n",
              "    </tr>\n",
              "    <tr>\n",
              "      <th>150</th>\n",
              "      <td>Best kindle ever 😃</td>\n",
              "      <td>5.0</td>\n",
              "      <td>5</td>\n",
              "      <td>0.970501</td>\n",
              "    </tr>\n",
              "    <tr>\n",
              "      <th>442</th>\n",
              "      <td>This kindle is crap</td>\n",
              "      <td>4.0</td>\n",
              "      <td>1</td>\n",
              "      <td>0.968494</td>\n",
              "    </tr>\n",
              "    <tr>\n",
              "      <th>525</th>\n",
              "      <td>Best kindle ever. In love.</td>\n",
              "      <td>5.0</td>\n",
              "      <td>5</td>\n",
              "      <td>0.968025</td>\n",
              "    </tr>\n",
              "    <tr>\n",
              "      <th>833</th>\n",
              "      <td>Definitely recommended. Brilliant!</td>\n",
              "      <td>5.0</td>\n",
              "      <td>5</td>\n",
              "      <td>0.967772</td>\n",
              "    </tr>\n",
              "    <tr>\n",
              "      <th>375</th>\n",
              "      <td>Battery life</td>\n",
              "      <td>4.0</td>\n",
              "      <td>4</td>\n",
              "      <td>0.966709</td>\n",
              "    </tr>\n",
              "    <tr>\n",
              "      <th>5</th>\n",
              "      <td>Horrible most expensive screw up I ever mad</td>\n",
              "      <td>1.0</td>\n",
              "      <td>1</td>\n",
              "      <td>0.966579</td>\n",
              "    </tr>\n",
              "    <tr>\n",
              "      <th>304</th>\n",
              "      <td>Brilliant</td>\n",
              "      <td>5.0</td>\n",
              "      <td>5</td>\n",
              "      <td>0.966486</td>\n",
              "    </tr>\n",
              "    <tr>\n",
              "      <th>509</th>\n",
              "      <td>Practically perfect!</td>\n",
              "      <td>5.0</td>\n",
              "      <td>5</td>\n",
              "      <td>0.965984</td>\n",
              "    </tr>\n",
              "    <tr>\n",
              "      <th>865</th>\n",
              "      <td>fantastic</td>\n",
              "      <td>5.0</td>\n",
              "      <td>5</td>\n",
              "      <td>0.964431</td>\n",
              "    </tr>\n",
              "    <tr>\n",
              "      <th>79</th>\n",
              "      <td>In my opinion this is the best kindle</td>\n",
              "      <td>5.0</td>\n",
              "      <td>5</td>\n",
              "      <td>0.964242</td>\n",
              "    </tr>\n",
              "    <tr>\n",
              "      <th>335</th>\n",
              "      <td>Best Kindle ever</td>\n",
              "      <td>5.0</td>\n",
              "      <td>5</td>\n",
              "      <td>0.963889</td>\n",
              "    </tr>\n",
              "    <tr>\n",
              "      <th>508</th>\n",
              "      <td>Love ,love ,love it !</td>\n",
              "      <td>5.0</td>\n",
              "      <td>5</td>\n",
              "      <td>0.963306</td>\n",
              "    </tr>\n",
              "    <tr>\n",
              "      <th>248</th>\n",
              "      <td>Absolutely love it</td>\n",
              "      <td>5.0</td>\n",
              "      <td>5</td>\n",
              "      <td>0.963199</td>\n",
              "    </tr>\n",
              "    <tr>\n",
              "      <th>838</th>\n",
              "      <td>Totally love the Oasis! So pleased I bought it.</td>\n",
              "      <td>5.0</td>\n",
              "      <td>5</td>\n",
              "      <td>0.962786</td>\n",
              "    </tr>\n",
              "    <tr>\n",
              "      <th>271</th>\n",
              "      <td>The best Kindle money can buy</td>\n",
              "      <td>5.0</td>\n",
              "      <td>5</td>\n",
              "      <td>0.962574</td>\n",
              "    </tr>\n",
              "    <tr>\n",
              "      <th>869</th>\n",
              "      <td>Brilliant!</td>\n",
              "      <td>5.0</td>\n",
              "      <td>5</td>\n",
              "      <td>0.961120</td>\n",
              "    </tr>\n",
              "    <tr>\n",
              "      <th>934</th>\n",
              "      <td>Love it!!!</td>\n",
              "      <td>5.0</td>\n",
              "      <td>5</td>\n",
              "      <td>0.960795</td>\n",
              "    </tr>\n",
              "  </tbody>\n",
              "</table>\n",
              "</div>\n",
              "      <button class=\"colab-df-convert\" onclick=\"convertToInteractive('df-60ffa829-a37f-4423-9dfd-373624b4c515')\"\n",
              "              title=\"Convert this dataframe to an interactive table.\"\n",
              "              style=\"display:none;\">\n",
              "        \n",
              "  <svg xmlns=\"http://www.w3.org/2000/svg\" height=\"24px\"viewBox=\"0 0 24 24\"\n",
              "       width=\"24px\">\n",
              "    <path d=\"M0 0h24v24H0V0z\" fill=\"none\"/>\n",
              "    <path d=\"M18.56 5.44l.94 2.06.94-2.06 2.06-.94-2.06-.94-.94-2.06-.94 2.06-2.06.94zm-11 1L8.5 8.5l.94-2.06 2.06-.94-2.06-.94L8.5 2.5l-.94 2.06-2.06.94zm10 10l.94 2.06.94-2.06 2.06-.94-2.06-.94-.94-2.06-.94 2.06-2.06.94z\"/><path d=\"M17.41 7.96l-1.37-1.37c-.4-.4-.92-.59-1.43-.59-.52 0-1.04.2-1.43.59L10.3 9.45l-7.72 7.72c-.78.78-.78 2.05 0 2.83L4 21.41c.39.39.9.59 1.41.59.51 0 1.02-.2 1.41-.59l7.78-7.78 2.81-2.81c.8-.78.8-2.07 0-2.86zM5.41 20L4 18.59l7.72-7.72 1.47 1.35L5.41 20z\"/>\n",
              "  </svg>\n",
              "      </button>\n",
              "      \n",
              "  <style>\n",
              "    .colab-df-container {\n",
              "      display:flex;\n",
              "      flex-wrap:wrap;\n",
              "      gap: 12px;\n",
              "    }\n",
              "\n",
              "    .colab-df-convert {\n",
              "      background-color: #E8F0FE;\n",
              "      border: none;\n",
              "      border-radius: 50%;\n",
              "      cursor: pointer;\n",
              "      display: none;\n",
              "      fill: #1967D2;\n",
              "      height: 32px;\n",
              "      padding: 0 0 0 0;\n",
              "      width: 32px;\n",
              "    }\n",
              "\n",
              "    .colab-df-convert:hover {\n",
              "      background-color: #E2EBFA;\n",
              "      box-shadow: 0px 1px 2px rgba(60, 64, 67, 0.3), 0px 1px 3px 1px rgba(60, 64, 67, 0.15);\n",
              "      fill: #174EA6;\n",
              "    }\n",
              "\n",
              "    [theme=dark] .colab-df-convert {\n",
              "      background-color: #3B4455;\n",
              "      fill: #D2E3FC;\n",
              "    }\n",
              "\n",
              "    [theme=dark] .colab-df-convert:hover {\n",
              "      background-color: #434B5C;\n",
              "      box-shadow: 0px 1px 3px 1px rgba(0, 0, 0, 0.15);\n",
              "      filter: drop-shadow(0px 1px 2px rgba(0, 0, 0, 0.3));\n",
              "      fill: #FFFFFF;\n",
              "    }\n",
              "  </style>\n",
              "\n",
              "      <script>\n",
              "        const buttonEl =\n",
              "          document.querySelector('#df-60ffa829-a37f-4423-9dfd-373624b4c515 button.colab-df-convert');\n",
              "        buttonEl.style.display =\n",
              "          google.colab.kernel.accessAllowed ? 'block' : 'none';\n",
              "\n",
              "        async function convertToInteractive(key) {\n",
              "          const element = document.querySelector('#df-60ffa829-a37f-4423-9dfd-373624b4c515');\n",
              "          const dataTable =\n",
              "            await google.colab.kernel.invokeFunction('convertToInteractive',\n",
              "                                                     [key], {});\n",
              "          if (!dataTable) return;\n",
              "\n",
              "          const docLinkHtml = 'Like what you see? Visit the ' +\n",
              "            '<a target=\"_blank\" href=https://colab.research.google.com/notebooks/data_table.ipynb>data table notebook</a>'\n",
              "            + ' to learn more about interactive tables.';\n",
              "          element.innerHTML = '';\n",
              "          dataTable['output_type'] = 'display_data';\n",
              "          await google.colab.output.renderOutput(dataTable, element);\n",
              "          const docLink = document.createElement('div');\n",
              "          docLink.innerHTML = docLinkHtml;\n",
              "          element.appendChild(docLink);\n",
              "        }\n",
              "      </script>\n",
              "    </div>\n",
              "  </div>\n",
              "  "
            ]
          },
          "metadata": {},
          "execution_count": 20
        }
      ]
    },
    {
      "cell_type": "code",
      "source": [
        "from sklearn.metrics import confusion_matrix\n",
        "print(confusion_matrix(data.rating.values, data.sentiment.values))"
      ],
      "metadata": {
        "colab": {
          "base_uri": "https://localhost:8080/"
        },
        "id": "MSXgCNrYPyiI",
        "outputId": "db5868a6-0fc3-4708-c57f-8fbd422d5f3a"
      },
      "execution_count": null,
      "outputs": [
        {
          "output_type": "stream",
          "name": "stdout",
          "text": [
            "[[ 86  24   1   0   2]\n",
            " [ 20  38   9   3   0]\n",
            " [ 13  52  41   7   0]\n",
            " [  4  14  34  57   9]\n",
            " [  5  10  21 125 415]]\n"
          ]
        }
      ]
    },
    {
      "cell_type": "code",
      "source": [
        "acc_exact = sum(data['rating'] == data['sentiment'])/len(data)\n",
        "acc_by_1 = sum(np.abs(data['rating'] - data['sentiment']) <= 1)/len(data)\n",
        "print(f'Accuracy (exact)  is {round(acc_exact, 2)}')\n",
        "print(f'Accuracy (off-by-1) is {round(acc_by_1, 2)}')"
      ],
      "metadata": {
        "id": "lXfy-QmlVJMr",
        "colab": {
          "base_uri": "https://localhost:8080/"
        },
        "outputId": "63ec4587-15ba-4578-b33e-2f5c14634f5c"
      },
      "execution_count": null,
      "outputs": [
        {
          "output_type": "stream",
          "name": "stdout",
          "text": [
            "Accuracy  is 0.64\n",
            "Accuracy (off-by-1) is 0.93\n"
          ]
        }
      ]
    },
    {
      "cell_type": "markdown",
      "source": [
        "$\\bullet$ Accuracy (exact) is the exact match on the number of stars.\n",
        "\n",
        "$\\bullet$ Accuracy (off-by-1) is the percentage of reviews where the number of stars the model predicts differs by a maximum of 1 from the number given by the human reviewer."
      ],
      "metadata": {
        "id": "EL-2hVFwaE7N"
      }
    },
    {
      "cell_type": "code",
      "source": [
        "# personal review\n",
        "def predict_my_rating():\n",
        "  review = input('Insert your review : ')\n",
        "  print(f\"Your rating for the product is {sentiment_score(review)}\")\n",
        "\n",
        "predict_my_rating()"
      ],
      "metadata": {
        "colab": {
          "base_uri": "https://localhost:8080/"
        },
        "id": "oRzOkmN7tZp1",
        "outputId": "432191fe-c4ea-4aaa-ade7-8dd6bc7ab95d"
      },
      "execution_count": 120,
      "outputs": [
        {
          "output_type": "stream",
          "name": "stdout",
          "text": [
            "Insert your review : Give me my money back!\n",
            "Your rating for the product is 1\n"
          ]
        }
      ]
    },
    {
      "cell_type": "code",
      "source": [
        "predict_my_rating()"
      ],
      "metadata": {
        "colab": {
          "base_uri": "https://localhost:8080/"
        },
        "id": "Kp4ePVcxuTTk",
        "outputId": "4380677b-d525-440d-e90e-e796e33705bb"
      },
      "execution_count": 89,
      "outputs": [
        {
          "output_type": "stream",
          "name": "stdout",
          "text": [
            "Insert your review : I can not believe I paid money for this product :/\n",
            "Your rating for the product is 1\n"
          ]
        }
      ]
    },
    {
      "cell_type": "code",
      "source": [
        "predict_my_rating()"
      ],
      "metadata": {
        "colab": {
          "base_uri": "https://localhost:8080/"
        },
        "id": "1FzMeVd6uaea",
        "outputId": "0308e54b-b345-4a31-970b-011af49914cc"
      },
      "execution_count": 96,
      "outputs": [
        {
          "output_type": "stream",
          "name": "stdout",
          "text": [
            "Insert your review : Been using it for 2 month. So far it is good\n",
            "Your rating for the product is 4\n"
          ]
        }
      ]
    },
    {
      "cell_type": "markdown",
      "source": [
        "#  Custom LSTM network\n",
        "\n",
        "Here, we use the model we built for amazon reviews dataset (see \"Sentiment analysis for Amazon reviews.ipynb\"). This model predicts whether the review is positive or negative.\n"
      ],
      "metadata": {
        "id": "9_3j2IbVa0ok"
      }
    },
    {
      "cell_type": "code",
      "source": [
        "# first drop neutral reviews \n",
        "# binary classification: 1,2 rankings are considered as a positive case\n",
        "# load model and tokenizer from file\n",
        "\n",
        "from copy import deepcopy\n",
        "df = deepcopy(data[data.rating != 3][['text','rating']])\n",
        "df['rating'] = (df['rating']<3).astype('int')\n",
        "\n",
        "texts = df['text'].values\n",
        "labels = df['rating'].values\n",
        "\n",
        "texts[0]"
      ],
      "metadata": {
        "colab": {
          "base_uri": "https://localhost:8080/",
          "height": 89
        },
        "id": "fUCh-ErEY-TD",
        "outputId": "9ac41783-6107-487c-e9a8-4f783f3cf280"
      },
      "execution_count": 101,
      "outputs": [
        {
          "output_type": "execute_result",
          "data": {
            "text/plain": [
              "\"Page turning buttons are a reel asset. Built in light is brilliant. I brought two, one for myself and one for a Birthday present. Mine is fine as I have had kindles before but the present is a pain as it's all in dollars not stering, tryed lots of things to change it, and can't order any books, not happy as I brought it as a present, its embarrassing. I will have to get in touch with Amazon.\""
            ],
            "application/vnd.google.colaboratory.intrinsic+json": {
              "type": "string"
            }
          },
          "metadata": {},
          "execution_count": 101
        }
      ]
    },
    {
      "cell_type": "code",
      "source": [
        "# normalize texts\n",
        "import re\n",
        "\n",
        "NON_ALPHANUM = re.compile(r'[\\W]')\n",
        "NON_ASCII = re.compile(r'[^a-z0-1\\s]')\n",
        "def normalize_texts(texts):\n",
        "    normalized_texts = []\n",
        "    for text in texts:\n",
        "        lower = text.lower()\n",
        "        no_punctuation = NON_ALPHANUM.sub(r' ', lower)\n",
        "        no_non_ascii = NON_ASCII.sub(r'', no_punctuation)\n",
        "        normalized_texts.append(no_non_ascii)\n",
        "    return normalized_texts\n",
        "texts = normalize_texts(texts)"
      ],
      "metadata": {
        "id": "gwKRv1IsfvJ_"
      },
      "execution_count": 102,
      "outputs": []
    },
    {
      "cell_type": "code",
      "source": [
        "import tensorflow\n",
        "from tensorflow.keras.preprocessing.sequence import pad_sequences\n",
        "import pickle\n",
        "\n",
        "#load tokenizer and the model\n",
        "Tokenizer = pickle.load(open('tokenizer.pkl', 'rb'))\n",
        "model = pickle.load(open('model.pkl','rb'))\n",
        "\n",
        "# tokenize and padd the sequences\n",
        "max_length = 241\n",
        "texts = Tokenizer.texts_to_sequences(texts)\n",
        "texts = pad_sequences(texts, maxlen=max_length)\n",
        "\n",
        "# predict the sentiment class\n",
        "preds = model.predict(texts)\n"
      ],
      "metadata": {
        "colab": {
          "base_uri": "https://localhost:8080/"
        },
        "id": "3oImqfelit3x",
        "outputId": "90bf6753-74a0-4341-e154-242890d1d7ca"
      },
      "execution_count": 103,
      "outputs": [
        {
          "output_type": "stream",
          "name": "stdout",
          "text": [
            "28/28 [==============================] - 3s 61ms/step\n"
          ]
        }
      ]
    },
    {
      "cell_type": "code",
      "source": [
        "from sklearn.metrics import accuracy_score, roc_auc_score, classification_report, f1_score\n",
        "print('AUC score: {:0.4}'.format(roc_auc_score(labels, preds)))\n",
        "print('Accuracy score: {:0.4}'.format(accuracy_score(labels, 1 * (preds > 0.85))))\n",
        "print(classification_report(labels, 1 * (preds > 0.85))) # imbalanced - less positive class"
      ],
      "metadata": {
        "colab": {
          "base_uri": "https://localhost:8080/"
        },
        "id": "UOrv8hfCix8g",
        "outputId": "414ced65-fd5e-488f-8ddd-1c481472dd83"
      },
      "execution_count": 73,
      "outputs": [
        {
          "output_type": "stream",
          "name": "stdout",
          "text": [
            "AUC score: 0.9753\n",
            "Accuracy score: 0.951\n",
            "              precision    recall  f1-score   support\n",
            "\n",
            "           0       0.98      0.96      0.97       694\n",
            "           1       0.85      0.92      0.89       183\n",
            "\n",
            "    accuracy                           0.95       877\n",
            "   macro avg       0.92      0.94      0.93       877\n",
            "weighted avg       0.95      0.95      0.95       877\n",
            "\n"
          ]
        }
      ]
    },
    {
      "cell_type": "code",
      "source": [
        "# predict your own review with the custom model\n",
        "def predict_sentiment():\n",
        "  review = input('Insert your review: ')\n",
        "  review = Tokenizer.texts_to_sequences([review])\n",
        "  review = pad_sequences(review, maxlen=max_length)\n",
        "  print(f'Good review prob: {1-model.predict([review])[0][0]}')\n",
        "  print(f'Bad review prob: {model.predict([review])[0][0]}')"
      ],
      "metadata": {
        "id": "bJ_v7YDYv-Lw"
      },
      "execution_count": 113,
      "outputs": []
    },
    {
      "cell_type": "code",
      "source": [
        "predict_sentiment()"
      ],
      "metadata": {
        "colab": {
          "base_uri": "https://localhost:8080/"
        },
        "id": "VhjaY1lix1xk",
        "outputId": "35bfd903-9f30-4381-b0eb-9643ff9ce212"
      },
      "execution_count": 115,
      "outputs": [
        {
          "output_type": "stream",
          "name": "stdout",
          "text": [
            "Insert your review: I would recommend it to a friend\n",
            "1/1 [==============================] - 0s 39ms/step\n",
            "Good review prob: 0.946056392043829\n",
            "1/1 [==============================] - 0s 36ms/step\n",
            "Bad review prob: 0.053943607956171036\n"
          ]
        }
      ]
    },
    {
      "cell_type": "code",
      "source": [
        "predict_sentiment()"
      ],
      "metadata": {
        "colab": {
          "base_uri": "https://localhost:8080/"
        },
        "id": "F0L_xW9xxB3i",
        "outputId": "f55832ff-4f78-4676-98fb-1a27cf5e697e"
      },
      "execution_count": 116,
      "outputs": [
        {
          "output_type": "stream",
          "name": "stdout",
          "text": [
            "Insert your review: The previous model was 10 times better\n",
            "1/1 [==============================] - 0s 35ms/step\n",
            "Good review prob: 0.34038639068603516\n",
            "1/1 [==============================] - 0s 34ms/step\n",
            "Bad review prob: 0.6596136093139648\n"
          ]
        }
      ]
    },
    {
      "cell_type": "code",
      "source": [],
      "metadata": {
        "id": "n0Wb943vxjAH"
      },
      "execution_count": null,
      "outputs": []
    }
  ]
}